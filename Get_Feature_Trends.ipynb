{
  "nbformat": 4,
  "nbformat_minor": 0,
  "metadata": {
    "colab": {
      "name": "Get_Feature_Trends.ipynb",
      "provenance": [],
      "collapsed_sections": [],
      "authorship_tag": "ABX9TyNpG3HIEF5z2D32dfwm9FJP",
      "include_colab_link": true
    },
    "kernelspec": {
      "name": "python3",
      "display_name": "Python 3"
    }
  },
  "cells": [
    {
      "cell_type": "markdown",
      "metadata": {
        "id": "view-in-github",
        "colab_type": "text"
      },
      "source": [
        "<a href=\"https://colab.research.google.com/github/ananyas713/hypoxemia/blob/master/Get_Feature_Trends.ipynb\" target=\"_parent\"><img src=\"https://colab.research.google.com/assets/colab-badge.svg\" alt=\"Open In Colab\"/></a>"
      ]
    },
    {
      "cell_type": "markdown",
      "metadata": {
        "id": "TjijMO1GFvPS"
      },
      "source": [
        "# Feature Trend Analysis Notebook\n",
        "The purpose of this notebook is to analyze feature trends leading to a hypoxemia event. The four main features we are looking at are: mean arterial blood pressure (ABP), peripheral capillary oxygen saturation (SpO2), heart rate (HR), and respiratory rate (Resp). "
      ]
    },
    {
      "cell_type": "code",
      "metadata": {
        "id": "LdstGxGtPX4X"
      },
      "source": [
        "import json\n",
        "import matplotlib.pyplot as plt\n",
        "import numpy as np\n",
        "import math\n",
        "import pandas as pd\n",
        "from scipy import stats"
      ],
      "execution_count": null,
      "outputs": []
    },
    {
      "cell_type": "code",
      "metadata": {
        "id": "DS6OnLzJRWav",
        "outputId": "8a224c7c-db5d-476a-e6cc-1f6143c1de66",
        "colab": {
          "base_uri": "https://localhost:8080/"
        }
      },
      "source": [
        "from google.colab import drive\n",
        "drive.mount('/content/drive')\n",
        "\n",
        "dir = '/content/drive/My Drive/College Stuff/Precision Care Medicine/Code and Stuff/Time-series/'"
      ],
      "execution_count": null,
      "outputs": [
        {
          "output_type": "stream",
          "text": [
            "Drive already mounted at /content/drive; to attempt to forcibly remount, call drive.mount(\"/content/drive\", force_remount=True).\n"
          ],
          "name": "stdout"
        }
      ]
    },
    {
      "cell_type": "code",
      "metadata": {
        "id": "A-vpGRfWLF94",
        "outputId": "57296652-b57b-466f-9cd3-4023d95e700a",
        "colab": {
          "base_uri": "https://localhost:8080/"
        }
      },
      "source": [
        "feature = input('Which feature do you want to view? (ABP, SpO2, HR, Resp) ')"
      ],
      "execution_count": null,
      "outputs": [
        {
          "output_type": "stream",
          "text": [
            "Which feature do you want to view? (ABP, SpO2, HR, Resp) ABP\n"
          ],
          "name": "stdout"
        }
      ]
    },
    {
      "cell_type": "code",
      "metadata": {
        "id": "uvXIvWnkJsby"
      },
      "source": [
        "class Feature_Graph(object):\n",
        "  \n",
        "  def read_data(self):\n",
        "    raise NotImplementedError()\n",
        "\n",
        "  def analyze_trends(self, p, n):\n",
        "    #Initialize arrays\n",
        "    pos = []\n",
        "    name = []\n",
        "    pos_list = []\n",
        "\n",
        "    #Extract starting timepoints\n",
        "    for j in range(len(p)):\n",
        "      if (p[j] > 150 and len(pos) < 10000):\n",
        "        name.append(n[j])\n",
        "        pos.append(p[j])\n",
        "\n",
        "    #Create list of 150 min events\n",
        "    for a in range(len(pos)):\n",
        "      try:\n",
        "        pos_list.append(self.data[name[a]][pos[a]-150:pos[a]])\n",
        "      except:\n",
        "        continue\n",
        "\n",
        "    #Find statistics for each timepoint \n",
        "    means = []\n",
        "    sem = []\n",
        "    std = []\n",
        "    big_hold = []\n",
        "    for thing in range(150):\n",
        "      hold = []\n",
        "      for thing2 in range(len(pos_list)):\n",
        "        if (len(pos_list[thing2]) > thing):\n",
        "          if (pos_list[thing2][thing] < 200):\n",
        "            hold.append(pos_list[thing2][thing])\n",
        "      means.append(np.mean(np.asarray(hold)))\n",
        "      sem.append(stats.sem(np.asarray(hold)))\n",
        "      std.append(np.std(np.asarray(hold)))\n",
        "      big_hold.append(np.asarray(hold))\n",
        "\n",
        "    return means, std, big_hold\n",
        "\n",
        "  def stat_vals(self):\n",
        "    #Use Mann-Whitney U test to compare positive and negative distributions for each timepoint\n",
        "    sigs = []\n",
        "    for i in range(150):\n",
        "      p_hold = self.p_bighold[i]\n",
        "      n_hold = self.n_bighold[i]\n",
        "      stat, p = stats.mannwhitneyu(p_hold, n_hold)\n",
        "      if (p < 0.001 and self.p_means[i] < self.n_means[i]):\n",
        "        sigs.append(-1)\n",
        "      elif (p < 0.001 and self.p_means[i] > self.n_means[i]):\n",
        "        sigs.append(1)\n",
        "      else:\n",
        "        sigs.append(0)\n",
        "    return sigs\n",
        "  \n",
        "  def plot_trends(self):\n",
        "    raise NotImplementedError()\n",
        "\n",
        "  def make_graph(self):\n",
        "    #Read in data\n",
        "    self.read_data()\n",
        "  \n",
        "    #Read in csv listing positive and negative events\n",
        "    e = pd.read_csv('/content/drive/My Drive/College Stuff/Precision Care Medicine/Documents/Go_to_publish/event_durations.csv')\n",
        "    othere = pd.read_csv('/content/drive/My Drive/College Stuff/Precision Care Medicine/Documents/Go_to_publish/training_features/negative.csv')\n",
        "    \n",
        "    #Extract event names and positions\n",
        "    p = np.asarray(e['event_start'])\n",
        "    ed = np.asarray(e['event_duration'])\n",
        "    n = np.asarray(e['name'])\n",
        "    op = np.asarray(othere['position'])\n",
        "    on = np.asarray(othere['name'])\n",
        "\n",
        "    #Get trends and stats\n",
        "    self.p_means, self.p_std, self.p_bighold = self.analyze_trends(p,n)\n",
        "    self.n_means, self.n_std, self.n_bighold = self.analyze_trends(op,on)\n",
        "    self.sigs = self.stat_vals()\n",
        "\n",
        "    #Convert to numpy arrays\n",
        "    self.n_means = np.asarray(self.n_means)\n",
        "    self.n_std = np.asarray(self.n_std)\n",
        "    self.n_bighold = np.asarray(self.n_bighold)\n",
        "    self.p_means = np.asarray(self.p_means)\n",
        "    self.p_std = np.asarray(self.p_std)\n",
        "    self.p_bighold = np.asarray(self.p_bighold)\n",
        "    self.sigs = np.asarray(self.sigs)\n",
        "    \n",
        "    self.plot_trends()"
      ],
      "execution_count": null,
      "outputs": []
    },
    {
      "cell_type": "code",
      "metadata": {
        "id": "U-1M0ebmX1tq"
      },
      "source": [
        "class SpO2_Graph(Feature_Graph):\n",
        "  def read_data(self):\n",
        "    #Read in data\n",
        "    with open(dir + 'wholeSpO2_clean.json', 'r') as json_file:\n",
        "      self.data = json.load(json_file)\n",
        "\n",
        "  def plot_trends(self):\n",
        "    #Plot means and standard deviations for each timepoint of positive and negative samples\n",
        "    x = np.linspace(-150,0,150)\n",
        "    plt.figure(figsize=(7,4))\n",
        "    plt.rcParams.update({'font.size': 16})\n",
        "    plt.plot(x, self.n_means, color = 'dodgerblue')\n",
        "    plt.fill_between(x, self.n_means+self.n_std, self.n_means-self.n_std, color='xkcd:azure', alpha = 0.3)\n",
        "    plt.plot(x, self.p_means, color = 'tomato')\n",
        "    plt.fill_between(x, self.p_means+self.p_std, self.p_means-self.p_std, color='xkcd:orange', alpha = 0.3)\n",
        "    plt.ylabel('SpO2 (%)')\n",
        "    plt.xlabel('Time Before Event (min)')\n",
        "    plt.title('SpO2 Trends Averaged Over 10000 Samples')\n",
        "    plt.legend(['negative', 'positive'])\n",
        "\n",
        "    plt.figure(figsize=(7,4))\n",
        "    plt.plot(x, self.sigs)\n",
        "    plt.ylim(-1.1,1.1)\n",
        "    plt.ylabel('Sig Diff Btwn Pos and Neg')\n",
        "    plt.xlabel('Time Before Event (min)')\n",
        "    plt.title('Significant Difference SpO2')"
      ],
      "execution_count": null,
      "outputs": []
    },
    {
      "cell_type": "code",
      "metadata": {
        "id": "SJVOYdP8BJKa"
      },
      "source": [
        "class HR_Graph(Feature_Graph):\n",
        "  def read_data(self):\n",
        "    #Read in data\n",
        "    with open(dir + 'HR_clean.json', 'r') as json_file:\n",
        "      self.data = json.load(json_file)\n",
        "\n",
        "  def plot_trends(self):\n",
        "    #Plot means and standard deviations for each timepoint of positive and negative samples\n",
        "    x = np.linspace(-150,0,150)\n",
        "    plt.figure(figsize=(7,4))\n",
        "    plt.rcParams.update({'font.size': 16})\n",
        "    plt.plot(x, self.n_means, color = 'dodgerblue')\n",
        "    plt.fill_between(x, self.n_means+self.n_std, self.n_means-self.n_std, color='xkcd:azure', alpha = 0.3)\n",
        "    plt.plot(x, self.p_means, color = 'tomato')\n",
        "    plt.fill_between(x, self.p_means+self.p_std, self.p_means-self.p_std, color='xkcd:orange', alpha = 0.3)\n",
        "    plt.ylabel('HR (bpm)')\n",
        "    plt.xlabel('Time Before Event (min)')\n",
        "    plt.title('HR Trends Averaged Over 10000 Samples')\n",
        "    plt.legend(['negative', 'positive'])\n",
        "\n",
        "    plt.figure(figsize=(7,4))\n",
        "    plt.plot(x, self.sigs)\n",
        "    plt.ylim(-1.1,1.1)\n",
        "    plt.ylabel('Sig Diff Btwn Pos and Neg')\n",
        "    plt.xlabel('Time Before Event (min)')\n",
        "    plt.title('Significant Difference HR')"
      ],
      "execution_count": null,
      "outputs": []
    },
    {
      "cell_type": "code",
      "metadata": {
        "id": "YN6fBmKNBimM"
      },
      "source": [
        "class ABP_Graph(Feature_Graph):\n",
        "  def read_data(self):\n",
        "    #Read in data\n",
        "    with open(dir + 'ABPMean_clean.json', 'r') as json_file:\n",
        "      self.data = json.load(json_file)\n",
        "\n",
        "  def plot_trends(self):\n",
        "    #Plot means and standard deviations for each timepoint of positive and negative samples\n",
        "    x = np.linspace(-150,0,150)\n",
        "    plt.figure(figsize=(7,4))\n",
        "    plt.rcParams.update({'font.size': 16})\n",
        "    plt.plot(x, self.n_means, color = 'dodgerblue')\n",
        "    plt.fill_between(x, self.n_means+self.n_std, self.n_means-self.n_std, color='xkcd:azure', alpha = 0.3)\n",
        "    plt.plot(x, self.p_means, color = 'tomato')\n",
        "    plt.fill_between(x, self.p_means+self.p_std, self.p_means-self.p_std, color='xkcd:orange', alpha = 0.3)\n",
        "    plt.ylabel('Mean ABP (mmHg)')\n",
        "    plt.xlabel('Time Before Event (min)')\n",
        "    plt.title('Mean ABP Trends Averaged Over 10000 Samples')\n",
        "    plt.legend(['negative', 'positive'])\n",
        "\n",
        "    plt.figure(figsize=(7,4))\n",
        "    plt.plot(x, self.sigs)\n",
        "    plt.ylim(-1.1,1.1)\n",
        "    plt.ylabel('Sig Diff Btwn Pos and Neg')\n",
        "    plt.xlabel('Time Before Event (min)')\n",
        "    plt.title('Significant Difference Mean ABP')"
      ],
      "execution_count": null,
      "outputs": []
    },
    {
      "cell_type": "code",
      "metadata": {
        "id": "wpXDhvotCVqH"
      },
      "source": [
        "class Resp_Graph(Feature_Graph):\n",
        "  def read_data(self):\n",
        "    #Read in data\n",
        "    with open(dir + 'RESP_clean.json', 'r') as json_file:\n",
        "      self.data = json.load(json_file)\n",
        "\n",
        "  def plot_trends(self):\n",
        "    #Plot means and standard deviations for each timepoint of positive and negative samples\n",
        "    x = np.linspace(-150,0,150)\n",
        "    plt.figure(figsize=(7,4))\n",
        "    plt.rcParams.update({'font.size': 16})\n",
        "    plt.plot(x, self.n_means, color = 'dodgerblue')\n",
        "    plt.fill_between(x, self.n_means+self.n_std, self.n_means-self.n_std, color='xkcd:azure', alpha = 0.3)\n",
        "    plt.plot(x, self.p_means, color = 'tomato')\n",
        "    plt.fill_between(x, self.p_means+self.p_std, self.p_means-self.p_std, color='xkcd:orange', alpha = 0.3)\n",
        "    plt.ylabel('Resp Rate (breaths per min)')\n",
        "    plt.xlabel('Time Before Event (min)')\n",
        "    plt.title('Resp Rate Trends Averaged Over 10000 Samples')\n",
        "    plt.legend(['negative', 'positive'])\n",
        "\n",
        "    plt.figure(figsize=(7,4))\n",
        "    plt.plot(x, self.sigs)\n",
        "    plt.ylim(-1.1,1.1)\n",
        "    plt.ylabel('Sig Diff Btwn Pos and Neg')\n",
        "    plt.xlabel('Time Before Event (min)')\n",
        "    plt.title('Significant Difference Resp')"
      ],
      "execution_count": null,
      "outputs": []
    },
    {
      "cell_type": "code",
      "metadata": {
        "id": "q_VuT8txckqK",
        "outputId": "9db6de41-695b-40a9-8850-1a84a548c78d",
        "colab": {
          "base_uri": "https://localhost:8080/",
          "height": 603
        }
      },
      "source": [
        "if feature == 'SpO2':\n",
        "  feat_graph = SpO2_Graph()\n",
        "elif feature == 'HR':\n",
        "  feat_graph = HR_Graph()\n",
        "elif feature == 'ABP':\n",
        "  feat_graph = ABP_Graph()\n",
        "elif feature == 'Resp':\n",
        "  feat_graph = Resp_Graph()\n",
        "else:\n",
        "  raise ValueError('Not a recognized feature')\n",
        "\n",
        "feat_graph.make_graph()"
      ],
      "execution_count": null,
      "outputs": [
        {
          "output_type": "display_data",
          "data": {
            "image/png": "[encoded data removed]",
            "text/plain": [
              "<Figure size 504x288 with 1 Axes>"
            ]
          },
          "metadata": {
            "tags": [],
            "needs_background": "light"
          }
        },
        {
          "output_type": "display_data",
          "data": {
            "image/png": "[encoded data removed]",
            "text/plain": [
              "<Figure size 504x288 with 1 Axes>"
            ]
          },
          "metadata": {
            "tags": [],
            "needs_background": "light"
          }
        }
      ]
    },
    {
      "cell_type": "markdown",
      "metadata": {
        "id": "ZIi7Nru8cBaG"
      },
      "source": [
        "### Plot explanations\n",
        "The top graph shows the feature trend 150 minutes leading up to a hypoxemia event (positive^) or no event (negative^). The time point 0 indicates the start of the event. The shaded regions indicate the standard deviations.\n",
        "\n",
        "The bottom graph shows whether the positive and negative trends are significantly different (p < 0.001 using a Mann-Whitney U test). A value of 0 means no significant difference, a value of 1 means that the positive^ values are significantly greater than the negative^ values, and a value of -1 means that the negative^ values are significantly greater than the positive^ values. "
      ]
    },
    {
      "cell_type": "code",
      "metadata": {
        "id": "z6T-dpRWgetK"
      },
      "source": [
        ""
      ],
      "execution_count": null,
      "outputs": []
    }
  ]
}